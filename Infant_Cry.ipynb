{
  "nbformat": 4,
  "nbformat_minor": 0,
  "metadata": {
    "colab": {
      "name": "Infant_Cry.ipynb",
      "provenance": [],
      "collapsed_sections": [],
      "mount_file_id": "1IRVbPV14v7f1QwnobC9zzA_vOoCPQ9t_",
      "authorship_tag": "ABX9TyPQG6XyvL9JSWRGQSnV4q03",
      "include_colab_link": true
    },
    "kernelspec": {
      "name": "python3",
      "display_name": "Python 3"
    },
    "language_info": {
      "name": "python"
    },
    "accelerator": "GPU",
    "widgets": {
      "application/vnd.jupyter.widget-state+json": {
        "097c605b5d174c188175ad331774ddcc": {
          "model_module": "@jupyter-widgets/controls",
          "model_name": "HBoxModel",
          "model_module_version": "1.5.0",
          "state": {
            "_dom_classes": [],
            "_model_module": "@jupyter-widgets/controls",
            "_model_module_version": "1.5.0",
            "_model_name": "HBoxModel",
            "_view_count": null,
            "_view_module": "@jupyter-widgets/controls",
            "_view_module_version": "1.5.0",
            "_view_name": "HBoxView",
            "box_style": "",
            "children": [
              "IPY_MODEL_bb10709845fe47d3aa880b59e6c06769",
              "IPY_MODEL_d3fa0ae4cb564e8d919bfef40bbba185",
              "IPY_MODEL_5cf6e0c6ca09461e848a6611c91aef7f"
            ],
            "layout": "IPY_MODEL_0d07680cdfee4819996830b883fa0fca"
          }
        },
        "bb10709845fe47d3aa880b59e6c06769": {
          "model_module": "@jupyter-widgets/controls",
          "model_name": "HTMLModel",
          "model_module_version": "1.5.0",
          "state": {
            "_dom_classes": [],
            "_model_module": "@jupyter-widgets/controls",
            "_model_module_version": "1.5.0",
            "_model_name": "HTMLModel",
            "_view_count": null,
            "_view_module": "@jupyter-widgets/controls",
            "_view_module_version": "1.5.0",
            "_view_name": "HTMLView",
            "description": "",
            "description_tooltip": null,
            "layout": "IPY_MODEL_30787b0504c24666b4447807a12ddca5",
            "placeholder": "​",
            "style": "IPY_MODEL_ffb08e9848c1426c9cf86cb7fa20749f",
            "value": "100%"
          }
        },
        "d3fa0ae4cb564e8d919bfef40bbba185": {
          "model_module": "@jupyter-widgets/controls",
          "model_name": "FloatProgressModel",
          "model_module_version": "1.5.0",
          "state": {
            "_dom_classes": [],
            "_model_module": "@jupyter-widgets/controls",
            "_model_module_version": "1.5.0",
            "_model_name": "FloatProgressModel",
            "_view_count": null,
            "_view_module": "@jupyter-widgets/controls",
            "_view_module_version": "1.5.0",
            "_view_name": "ProgressView",
            "bar_style": "success",
            "description": "",
            "description_tooltip": null,
            "layout": "IPY_MODEL_e1cdacbf321a4d8ba6f9ed0c0227024c",
            "max": 102530333,
            "min": 0,
            "orientation": "horizontal",
            "style": "IPY_MODEL_28baffd920364575b4592c89a2ce2ab0",
            "value": 102530333
          }
        },
        "5cf6e0c6ca09461e848a6611c91aef7f": {
          "model_module": "@jupyter-widgets/controls",
          "model_name": "HTMLModel",
          "model_module_version": "1.5.0",
          "state": {
            "_dom_classes": [],
            "_model_module": "@jupyter-widgets/controls",
            "_model_module_version": "1.5.0",
            "_model_name": "HTMLModel",
            "_view_count": null,
            "_view_module": "@jupyter-widgets/controls",
            "_view_module_version": "1.5.0",
            "_view_name": "HTMLView",
            "description": "",
            "description_tooltip": null,
            "layout": "IPY_MODEL_236ac6ca291d43899c3860ca9385f5fc",
            "placeholder": "​",
            "style": "IPY_MODEL_b1bb538104104564ba11c6d03ac016ba",
            "value": " 97.8M/97.8M [00:01&lt;00:00, 112MB/s]"
          }
        },
        "0d07680cdfee4819996830b883fa0fca": {
          "model_module": "@jupyter-widgets/base",
          "model_name": "LayoutModel",
          "model_module_version": "1.2.0",
          "state": {
            "_model_module": "@jupyter-widgets/base",
            "_model_module_version": "1.2.0",
            "_model_name": "LayoutModel",
            "_view_count": null,
            "_view_module": "@jupyter-widgets/base",
            "_view_module_version": "1.2.0",
            "_view_name": "LayoutView",
            "align_content": null,
            "align_items": null,
            "align_self": null,
            "border": null,
            "bottom": null,
            "display": null,
            "flex": null,
            "flex_flow": null,
            "grid_area": null,
            "grid_auto_columns": null,
            "grid_auto_flow": null,
            "grid_auto_rows": null,
            "grid_column": null,
            "grid_gap": null,
            "grid_row": null,
            "grid_template_areas": null,
            "grid_template_columns": null,
            "grid_template_rows": null,
            "height": null,
            "justify_content": null,
            "justify_items": null,
            "left": null,
            "margin": null,
            "max_height": null,
            "max_width": null,
            "min_height": null,
            "min_width": null,
            "object_fit": null,
            "object_position": null,
            "order": null,
            "overflow": null,
            "overflow_x": null,
            "overflow_y": null,
            "padding": null,
            "right": null,
            "top": null,
            "visibility": null,
            "width": null
          }
        },
        "30787b0504c24666b4447807a12ddca5": {
          "model_module": "@jupyter-widgets/base",
          "model_name": "LayoutModel",
          "model_module_version": "1.2.0",
          "state": {
            "_model_module": "@jupyter-widgets/base",
            "_model_module_version": "1.2.0",
            "_model_name": "LayoutModel",
            "_view_count": null,
            "_view_module": "@jupyter-widgets/base",
            "_view_module_version": "1.2.0",
            "_view_name": "LayoutView",
            "align_content": null,
            "align_items": null,
            "align_self": null,
            "border": null,
            "bottom": null,
            "display": null,
            "flex": null,
            "flex_flow": null,
            "grid_area": null,
            "grid_auto_columns": null,
            "grid_auto_flow": null,
            "grid_auto_rows": null,
            "grid_column": null,
            "grid_gap": null,
            "grid_row": null,
            "grid_template_areas": null,
            "grid_template_columns": null,
            "grid_template_rows": null,
            "height": null,
            "justify_content": null,
            "justify_items": null,
            "left": null,
            "margin": null,
            "max_height": null,
            "max_width": null,
            "min_height": null,
            "min_width": null,
            "object_fit": null,
            "object_position": null,
            "order": null,
            "overflow": null,
            "overflow_x": null,
            "overflow_y": null,
            "padding": null,
            "right": null,
            "top": null,
            "visibility": null,
            "width": null
          }
        },
        "ffb08e9848c1426c9cf86cb7fa20749f": {
          "model_module": "@jupyter-widgets/controls",
          "model_name": "DescriptionStyleModel",
          "model_module_version": "1.5.0",
          "state": {
            "_model_module": "@jupyter-widgets/controls",
            "_model_module_version": "1.5.0",
            "_model_name": "DescriptionStyleModel",
            "_view_count": null,
            "_view_module": "@jupyter-widgets/base",
            "_view_module_version": "1.2.0",
            "_view_name": "StyleView",
            "description_width": ""
          }
        },
        "e1cdacbf321a4d8ba6f9ed0c0227024c": {
          "model_module": "@jupyter-widgets/base",
          "model_name": "LayoutModel",
          "model_module_version": "1.2.0",
          "state": {
            "_model_module": "@jupyter-widgets/base",
            "_model_module_version": "1.2.0",
            "_model_name": "LayoutModel",
            "_view_count": null,
            "_view_module": "@jupyter-widgets/base",
            "_view_module_version": "1.2.0",
            "_view_name": "LayoutView",
            "align_content": null,
            "align_items": null,
            "align_self": null,
            "border": null,
            "bottom": null,
            "display": null,
            "flex": null,
            "flex_flow": null,
            "grid_area": null,
            "grid_auto_columns": null,
            "grid_auto_flow": null,
            "grid_auto_rows": null,
            "grid_column": null,
            "grid_gap": null,
            "grid_row": null,
            "grid_template_areas": null,
            "grid_template_columns": null,
            "grid_template_rows": null,
            "height": null,
            "justify_content": null,
            "justify_items": null,
            "left": null,
            "margin": null,
            "max_height": null,
            "max_width": null,
            "min_height": null,
            "min_width": null,
            "object_fit": null,
            "object_position": null,
            "order": null,
            "overflow": null,
            "overflow_x": null,
            "overflow_y": null,
            "padding": null,
            "right": null,
            "top": null,
            "visibility": null,
            "width": null
          }
        },
        "28baffd920364575b4592c89a2ce2ab0": {
          "model_module": "@jupyter-widgets/controls",
          "model_name": "ProgressStyleModel",
          "model_module_version": "1.5.0",
          "state": {
            "_model_module": "@jupyter-widgets/controls",
            "_model_module_version": "1.5.0",
            "_model_name": "ProgressStyleModel",
            "_view_count": null,
            "_view_module": "@jupyter-widgets/base",
            "_view_module_version": "1.2.0",
            "_view_name": "StyleView",
            "bar_color": null,
            "description_width": ""
          }
        },
        "236ac6ca291d43899c3860ca9385f5fc": {
          "model_module": "@jupyter-widgets/base",
          "model_name": "LayoutModel",
          "model_module_version": "1.2.0",
          "state": {
            "_model_module": "@jupyter-widgets/base",
            "_model_module_version": "1.2.0",
            "_model_name": "LayoutModel",
            "_view_count": null,
            "_view_module": "@jupyter-widgets/base",
            "_view_module_version": "1.2.0",
            "_view_name": "LayoutView",
            "align_content": null,
            "align_items": null,
            "align_self": null,
            "border": null,
            "bottom": null,
            "display": null,
            "flex": null,
            "flex_flow": null,
            "grid_area": null,
            "grid_auto_columns": null,
            "grid_auto_flow": null,
            "grid_auto_rows": null,
            "grid_column": null,
            "grid_gap": null,
            "grid_row": null,
            "grid_template_areas": null,
            "grid_template_columns": null,
            "grid_template_rows": null,
            "height": null,
            "justify_content": null,
            "justify_items": null,
            "left": null,
            "margin": null,
            "max_height": null,
            "max_width": null,
            "min_height": null,
            "min_width": null,
            "object_fit": null,
            "object_position": null,
            "order": null,
            "overflow": null,
            "overflow_x": null,
            "overflow_y": null,
            "padding": null,
            "right": null,
            "top": null,
            "visibility": null,
            "width": null
          }
        },
        "b1bb538104104564ba11c6d03ac016ba": {
          "model_module": "@jupyter-widgets/controls",
          "model_name": "DescriptionStyleModel",
          "model_module_version": "1.5.0",
          "state": {
            "_model_module": "@jupyter-widgets/controls",
            "_model_module_version": "1.5.0",
            "_model_name": "DescriptionStyleModel",
            "_view_count": null,
            "_view_module": "@jupyter-widgets/base",
            "_view_module_version": "1.2.0",
            "_view_name": "StyleView",
            "description_width": ""
          }
        }
      }
    }
  },
  "cells": [
    {
      "cell_type": "markdown",
      "metadata": {
        "id": "view-in-github",
        "colab_type": "text"
      },
      "source": [
        "<a href=\"https://colab.research.google.com/github/NimaZah/Cry/blob/main/Infant_Cry.ipynb\" target=\"_parent\"><img src=\"https://colab.research.google.com/assets/colab-badge.svg\" alt=\"Open In Colab\"/></a>"
      ]
    },
    {
      "cell_type": "markdown",
      "source": [
        "# Libraries, modules, dependencies"
      ],
      "metadata": {
        "id": "9aNDC9IsyZtz"
      }
    },
    {
      "cell_type": "code",
      "execution_count": null,
      "metadata": {
        "id": "xVMgJk9CkrAk"
      },
      "outputs": [],
      "source": [
        "import glob\n",
        "import shutil\n",
        "from pathlib import Path\n",
        "from sys import argv\n",
        "from scipy import signal\n",
        "from scipy.io import wavfile\n",
        "import numpy as np\n",
        "import matplotlib.pyplot as plt\n",
        "import os\n",
        "# fastai library\n",
        "!pip install fastbook==0.0.17\n",
        "!pip install -Uqq fastbook\n",
        "import fastbook\n",
        "from fastbook import *\n",
        "fastbook.setup_book()\n",
        "from fastai.vision import *\n",
        "from fastai.metrics import error_rate\n",
        "import warnings\n",
        "warnings.filterwarnings(\"ignore\")"
      ]
    },
    {
      "cell_type": "markdown",
      "source": [
        "# Standardizing the directory"
      ],
      "metadata": {
        "id": "dlNcL_faBZyq"
      }
    },
    {
      "cell_type": "code",
      "source": [
        "# create a directory\n",
        "path=Path('Audio/')\n",
        "path.mkdir(parents=True, exist_ok=True)"
      ],
      "metadata": {
        "id": "K23loFAslP6k"
      },
      "execution_count": null,
      "outputs": []
    },
    {
      "cell_type": "code",
      "source": [
        "# Download the file from GitHub, unzip it, delete the original zip file.\n",
        "os.chdir('Audio')\n",
        "!wget https://github.com/gveres/donateacry-corpus/archive/master.zip\n",
        "!unzip master.zip\n",
        "!rm master.zip"
      ],
      "metadata": {
        "id": "deQAR9t3mtCM"
      },
      "execution_count": null,
      "outputs": []
    },
    {
      "cell_type": "code",
      "source": [
        "# Keep only the folder with cleaned data\n",
        "os.chdir('donateacry-corpus-master')\n",
        "!rm -r donateacry-android-upload-bucket\n",
        "!rm -r donateacry-ios-upload-bucket\n",
        "!rm -r README.md\n",
        "os.chdir('donateacry_corpus_cleaned_and_updated_data') \n",
        "!rm -r README.md\n",
        "!mv * ../../\n",
        "os.chdir('../../')\n",
        "!rm -r donateacry-corpus-master"
      ],
      "metadata": {
        "id": "-1TgY8BxvORI"
      },
      "execution_count": null,
      "outputs": []
    },
    {
      "cell_type": "code",
      "source": [
        "!mkdir /content/Spectrogram\n",
        "!mkdir /content/Spectrogram/belly_pain_img\n",
        "!mkdir /content/Spectrogram/burping_img\n",
        "!mkdir /content/Spectrogram/discomfort_img\n",
        "!mkdir /content/Spectrogram/hungry_img\n",
        "!mkdir /content/Spectrogram/tired_img\n",
        "\n",
        "!cp /content/Audio/belly_pain/* /content/Spectrogram/belly_pain_img\n",
        "!cp /content/Audio/burping/* /content/Spectrogram/burping_img\n",
        "!cp /content/Audio/discomfort/* /content/Spectrogram/discomfort_img\n",
        "!cp /content/Audio/tired/* /content/Spectrogram/tired_img\n",
        "!cp /content/Audio/hungry/* /content/Spectrogram/hungry_img"
      ],
      "metadata": {
        "id": "mLweDVvAz6aj"
      },
      "execution_count": null,
      "outputs": []
    },
    {
      "cell_type": "markdown",
      "source": [
        "Creating the spectogram\n",
        "-------------------"
      ],
      "metadata": {
        "id": "FsnheXP6BUZZ"
      }
    },
    {
      "cell_type": "code",
      "source": [
        "def wav2img(wav_path, targetdir='', figsize=(4,4)):\n",
        "    fig = plt.figure(figsize=figsize)\n",
        "    sample_rate, samples = wavfile.read(wav_path)\n",
        "    frequencies, times, spectrogram = signal.spectrogram(samples, sample_rate)\n",
        "    plt.pcolormesh(np.log(spectrogram))\n",
        "    plt.imshow(spectrogram)\n",
        "    plt.axis('off')\n",
        "    plt.ylim(ymax=40)\n",
        "    plt.xlim(xmax=40)\n",
        "    plt.savefig(targetdir + wav_path.split('/')[-1].split('.wav')[0] + '.png', dpi=100, frameon='false')\n",
        "    plt.close()"
      ],
      "metadata": {
        "id": "XngZ8Nr4VpWV"
      },
      "execution_count": null,
      "outputs": []
    },
    {
      "cell_type": "code",
      "source": [
        "for i in os.listdir('/content/Spectrogram/belly_pain_img'):\n",
        "    wav2img('/content/Spectrogram/belly_pain_img/' + i, '/content/Spectrogram/belly_pain_img/')\n",
        "    os.remove('/content/Spectrogram/belly_pain_img/' + i)\n",
        "\n",
        "for i in os.listdir('/content/Spectrogram/burping_img'):\n",
        "    wav2img('/content/Spectrogram/burping_img/' + i, '/content/Spectrogram/burping_img/')\n",
        "    os.remove('/content/Spectrogram/burping_img/' + i)\n",
        "\n",
        "for i in os.listdir('/content/Spectrogram/discomfort_img'):\n",
        "    wav2img('/content/Spectrogram/discomfort_img/' + i, '/content/Spectrogram/discomfort_img/')\n",
        "    os.remove('/content/Spectrogram/discomfort_img/' + i)\n",
        "\n",
        "for i in os.listdir('/content/Spectrogram/hungry_img'):\n",
        "    wav2img('/content/Spectrogram/hungry_img/' + i, '/content/Spectrogram/hungry_img/')\n",
        "    os.remove('/content/Spectrogram/hungry_img/' + i)\n",
        "\n",
        "for i in os.listdir('/content/Spectrogram/tired_img'):\n",
        "    wav2img('/content/Spectrogram/tired_img/' + i, '/content/Spectrogram/tired_img/')\n",
        "    os.remove('/content/Spectrogram/tired_img/' + i)"
      ],
      "metadata": {
        "id": "mx2abUs9Mws-"
      },
      "execution_count": null,
      "outputs": []
    },
    {
      "cell_type": "code",
      "source": [
        "!zip -r Spectrogram.zip Spectrogram\n",
        "from google.colab import files\n",
        "files.download('Spectrogram.zip')"
      ],
      "metadata": {
        "id": "5fGwmW3TR1lR"
      },
      "execution_count": null,
      "outputs": []
    },
    {
      "cell_type": "markdown",
      "source": [
        "# Creating Dataset on Kaggle"
      ],
      "metadata": {
        "id": "MFlRpbbc3mrL"
      }
    },
    {
      "cell_type": "code",
      "source": [
        "!pip install kaggle\n",
        "!mkdir ~/.kaggle\n",
        "!touch ~/.kaggle/kaggle.json\n",
        "api_token = {\"username\":\"----\",\"key\":\"----\"}\n",
        "import json"
      ],
      "metadata": {
        "id": "Xl_sS7OcLWGa"
      },
      "execution_count": null,
      "outputs": []
    },
    {
      "cell_type": "code",
      "source": [
        "with open('/root/.kaggle/kaggle.json', 'w') as file:\n",
        "  json.dump(api_token, file)\n",
        "!chmod 600 ~/.kaggle/kaggle.json\n",
        "!kaggle datasets download -d nimaznzn/cy4582\n",
        "\n",
        "!unzip -q cy4582.zip\n",
        "!rm -r cy4582.zip"
      ],
      "metadata": {
        "id": "83_7Py3-NRXA"
      },
      "execution_count": null,
      "outputs": []
    },
    {
      "cell_type": "code",
      "source": [
        "path = Path(\"/content/Spectrogram\")\n",
        "path.ls()"
      ],
      "metadata": {
        "colab": {
          "base_uri": "https://localhost:8080/"
        },
        "id": "jt1jjDGZSSaT",
        "outputId": "49243ff7-0c6b-4ebb-fade-ae7a9aecf991"
      },
      "execution_count": null,
      "outputs": [
        {
          "output_type": "execute_result",
          "data": {
            "text/plain": [
              "(#5) [Path('/content/Spectrogram/hungry_img'),Path('/content/Spectrogram/burping_img'),Path('/content/Spectrogram/discomfort_img'),Path('/content/Spectrogram/belly_pain_img'),Path('/content/Spectrogram/tired_img')]"
            ]
          },
          "metadata": {},
          "execution_count": 90
        }
      ]
    },
    {
      "cell_type": "markdown",
      "source": [
        "# FastAI: Multi-class classification"
      ],
      "metadata": {
        "id": "u6BBOk8FFx21"
      }
    },
    {
      "cell_type": "code",
      "source": [
        "dls = ImageDataLoaders.from_folder(path, train=\".\", valid_pct=0.2,\n",
        "                                   item_tfms=Resize(224),\n",
        "                                   bs=64, num_workers=0)"
      ],
      "metadata": {
        "id": "HZaUyAreTXET"
      },
      "execution_count": null,
      "outputs": []
    },
    {
      "cell_type": "code",
      "source": [
        "# dls.train.show_batch(max_n=4, nrows=1)\n",
        "dls.show_batch(max_n=10, figsize=(7,7))"
      ],
      "metadata": {
        "colab": {
          "base_uri": "https://localhost:8080/",
          "height": 414
        },
        "id": "WkCLDLonbJwy",
        "outputId": "76fb576c-d45b-4ab3-9305-169f5c1fd965"
      },
      "execution_count": null,
      "outputs": [
        {
          "output_type": "display_data",
          "data": {
            "text/plain": [
              "<Figure size 504x504 with 12 Axes>"
            ],
            "image/png": "[encoded data removed]"
          },
          "metadata": {
            "needs_background": "light"
          }
        }
      ]
    },
    {
      "cell_type": "code",
      "source": [
        "learn = cnn_learner(dls, resnet50, metrics=accuracy)"
      ],
      "metadata": {
        "colab": {
          "base_uri": "https://localhost:8080/",
          "height": 87,
          "referenced_widgets": [
            "097c605b5d174c188175ad331774ddcc",
            "bb10709845fe47d3aa880b59e6c06769",
            "d3fa0ae4cb564e8d919bfef40bbba185",
            "5cf6e0c6ca09461e848a6611c91aef7f",
            "0d07680cdfee4819996830b883fa0fca",
            "30787b0504c24666b4447807a12ddca5",
            "ffb08e9848c1426c9cf86cb7fa20749f",
            "e1cdacbf321a4d8ba6f9ed0c0227024c",
            "28baffd920364575b4592c89a2ce2ab0",
            "236ac6ca291d43899c3860ca9385f5fc",
            "b1bb538104104564ba11c6d03ac016ba"
          ]
        },
        "id": "7vM3qko_bPj6",
        "outputId": "4f3fc8bb-cfe2-4680-c4ab-0b5d82ebe637"
      },
      "execution_count": null,
      "outputs": [
        {
          "output_type": "stream",
          "name": "stderr",
          "text": [
            "Downloading: \"https://download.pytorch.org/models/resnet50-0676ba61.pth\" to /root/.cache/torch/hub/checkpoints/resnet50-0676ba61.pth\n"
          ]
        },
        {
          "output_type": "display_data",
          "data": {
            "text/plain": [
              "  0%|          | 0.00/97.8M [00:00<?, ?B/s]"
            ],
            "application/vnd.jupyter.widget-view+json": {
              "version_major": 2,
              "version_minor": 0,
              "model_id": "097c605b5d174c188175ad331774ddcc"
            }
          },
          "metadata": {}
        }
      ]
    },
    {
      "cell_type": "code",
      "source": [
        "import time\n",
        "\n",
        "t0 = time.time()\n",
        "learn.fine_tune(20)\n",
        "t1 = time.time()\n",
        "print(\"time taken to fit the model: {}\".format(t1 - t0))"
      ],
      "metadata": {
        "id": "soBausPZdk9r",
        "colab": {
          "base_uri": "https://localhost:8080/",
          "height": 757
        },
        "outputId": "783664d3-6f02-4eb8-c708-28d00ae5dd8b"
      },
      "execution_count": null,
      "outputs": [
        {
          "output_type": "display_data",
          "data": {
            "text/plain": [
              "<IPython.core.display.HTML object>"
            ],
            "text/html": [
              "\n",
              "<style>\n",
              "    /* Turns off some styling */\n",
              "    progress {\n",
              "        /* gets rid of default border in Firefox and Opera. */\n",
              "        border: none;\n",
              "        /* Needs to be in here for Safari polyfill so background images work as expected. */\n",
              "        background-size: auto;\n",
              "    }\n",
              "    .progress-bar-interrupted, .progress-bar-interrupted::-webkit-progress-bar {\n",
              "        background: #F44336;\n",
              "    }\n",
              "</style>\n"
            ]
          },
          "metadata": {}
        },
        {
          "output_type": "display_data",
          "data": {
            "text/plain": [
              "<IPython.core.display.HTML object>"
            ],
            "text/html": [
              "<table border=\"1\" class=\"dataframe\">\n",
              "  <thead>\n",
              "    <tr style=\"text-align: left;\">\n",
              "      <th>epoch</th>\n",
              "      <th>train_loss</th>\n",
              "      <th>valid_loss</th>\n",
              "      <th>accuracy</th>\n",
              "      <th>time</th>\n",
              "    </tr>\n",
              "  </thead>\n",
              "  <tbody>\n",
              "    <tr>\n",
              "      <td>0</td>\n",
              "      <td>2.788719</td>\n",
              "      <td>0.934043</td>\n",
              "      <td>0.758242</td>\n",
              "      <td>00:11</td>\n",
              "    </tr>\n",
              "  </tbody>\n",
              "</table>"
            ]
          },
          "metadata": {}
        },
        {
          "output_type": "display_data",
          "data": {
            "text/plain": [
              "<IPython.core.display.HTML object>"
            ],
            "text/html": [
              "\n",
              "<style>\n",
              "    /* Turns off some styling */\n",
              "    progress {\n",
              "        /* gets rid of default border in Firefox and Opera. */\n",
              "        border: none;\n",
              "        /* Needs to be in here for Safari polyfill so background images work as expected. */\n",
              "        background-size: auto;\n",
              "    }\n",
              "    .progress-bar-interrupted, .progress-bar-interrupted::-webkit-progress-bar {\n",
              "        background: #F44336;\n",
              "    }\n",
              "</style>\n"
            ]
          },
          "metadata": {}
        },
        {
          "output_type": "display_data",
          "data": {
            "text/plain": [
              "<IPython.core.display.HTML object>"
            ],
            "text/html": [
              "<table border=\"1\" class=\"dataframe\">\n",
              "  <thead>\n",
              "    <tr style=\"text-align: left;\">\n",
              "      <th>epoch</th>\n",
              "      <th>train_loss</th>\n",
              "      <th>valid_loss</th>\n",
              "      <th>accuracy</th>\n",
              "      <th>time</th>\n",
              "    </tr>\n",
              "  </thead>\n",
              "  <tbody>\n",
              "    <tr>\n",
              "      <td>0</td>\n",
              "      <td>2.317105</td>\n",
              "      <td>1.456234</td>\n",
              "      <td>0.395604</td>\n",
              "      <td>00:13</td>\n",
              "    </tr>\n",
              "    <tr>\n",
              "      <td>1</td>\n",
              "      <td>2.295368</td>\n",
              "      <td>2.072333</td>\n",
              "      <td>0.142857</td>\n",
              "      <td>00:13</td>\n",
              "    </tr>\n",
              "    <tr>\n",
              "      <td>2</td>\n",
              "      <td>2.214367</td>\n",
              "      <td>2.178732</td>\n",
              "      <td>0.252747</td>\n",
              "      <td>00:13</td>\n",
              "    </tr>\n",
              "    <tr>\n",
              "      <td>3</td>\n",
              "      <td>2.100833</td>\n",
              "      <td>1.782169</td>\n",
              "      <td>0.329670</td>\n",
              "      <td>00:13</td>\n",
              "    </tr>\n",
              "    <tr>\n",
              "      <td>4</td>\n",
              "      <td>2.016281</td>\n",
              "      <td>2.460999</td>\n",
              "      <td>0.252747</td>\n",
              "      <td>00:13</td>\n",
              "    </tr>\n",
              "    <tr>\n",
              "      <td>5</td>\n",
              "      <td>1.903281</td>\n",
              "      <td>2.201181</td>\n",
              "      <td>0.340659</td>\n",
              "      <td>00:13</td>\n",
              "    </tr>\n",
              "    <tr>\n",
              "      <td>6</td>\n",
              "      <td>1.813370</td>\n",
              "      <td>3.699100</td>\n",
              "      <td>0.208791</td>\n",
              "      <td>00:13</td>\n",
              "    </tr>\n",
              "    <tr>\n",
              "      <td>7</td>\n",
              "      <td>1.658279</td>\n",
              "      <td>1.946582</td>\n",
              "      <td>0.626374</td>\n",
              "      <td>00:13</td>\n",
              "    </tr>\n",
              "    <tr>\n",
              "      <td>8</td>\n",
              "      <td>1.506124</td>\n",
              "      <td>2.126191</td>\n",
              "      <td>0.439560</td>\n",
              "      <td>00:13</td>\n",
              "    </tr>\n",
              "    <tr>\n",
              "      <td>9</td>\n",
              "      <td>1.335211</td>\n",
              "      <td>2.496877</td>\n",
              "      <td>0.450549</td>\n",
              "      <td>00:13</td>\n",
              "    </tr>\n",
              "    <tr>\n",
              "      <td>10</td>\n",
              "      <td>1.171536</td>\n",
              "      <td>2.112570</td>\n",
              "      <td>0.527473</td>\n",
              "      <td>00:13</td>\n",
              "    </tr>\n",
              "    <tr>\n",
              "      <td>11</td>\n",
              "      <td>1.046978</td>\n",
              "      <td>2.029993</td>\n",
              "      <td>0.604396</td>\n",
              "      <td>00:15</td>\n",
              "    </tr>\n",
              "    <tr>\n",
              "      <td>12</td>\n",
              "      <td>0.942310</td>\n",
              "      <td>1.905470</td>\n",
              "      <td>0.626374</td>\n",
              "      <td>00:13</td>\n",
              "    </tr>\n",
              "    <tr>\n",
              "      <td>13</td>\n",
              "      <td>0.836040</td>\n",
              "      <td>1.672054</td>\n",
              "      <td>0.692308</td>\n",
              "      <td>00:13</td>\n",
              "    </tr>\n",
              "    <tr>\n",
              "      <td>14</td>\n",
              "      <td>0.743200</td>\n",
              "      <td>1.596104</td>\n",
              "      <td>0.703297</td>\n",
              "      <td>00:14</td>\n",
              "    </tr>\n",
              "    <tr>\n",
              "      <td>15</td>\n",
              "      <td>0.663503</td>\n",
              "      <td>1.582616</td>\n",
              "      <td>0.692308</td>\n",
              "      <td>00:13</td>\n",
              "    </tr>\n",
              "    <tr>\n",
              "      <td>16</td>\n",
              "      <td>0.592068</td>\n",
              "      <td>1.599255</td>\n",
              "      <td>0.692308</td>\n",
              "      <td>00:15</td>\n",
              "    </tr>\n",
              "    <tr>\n",
              "      <td>17</td>\n",
              "      <td>0.532316</td>\n",
              "      <td>1.611717</td>\n",
              "      <td>0.703297</td>\n",
              "      <td>00:13</td>\n",
              "    </tr>\n",
              "    <tr>\n",
              "      <td>18</td>\n",
              "      <td>0.485207</td>\n",
              "      <td>1.605513</td>\n",
              "      <td>0.703297</td>\n",
              "      <td>00:13</td>\n",
              "    </tr>\n",
              "    <tr>\n",
              "      <td>19</td>\n",
              "      <td>0.439887</td>\n",
              "      <td>1.599339</td>\n",
              "      <td>0.703297</td>\n",
              "      <td>00:13</td>\n",
              "    </tr>\n",
              "  </tbody>\n",
              "</table>"
            ]
          },
          "metadata": {}
        },
        {
          "output_type": "stream",
          "name": "stdout",
          "text": [
            "time taken to fit the model: 289.18694496154785\n"
          ]
        }
      ]
    },
    {
      "cell_type": "code",
      "source": [
        "interp = ClassificationInterpretation.from_learner(learn)\n",
        "interp.plot_confusion_matrix()"
      ],
      "metadata": {
        "colab": {
          "base_uri": "https://localhost:8080/",
          "height": 311
        },
        "id": "tgK7pbxkFdn7",
        "outputId": "8829dc2f-9066-4378-9e99-92f79a330f3a"
      },
      "execution_count": null,
      "outputs": [
        {
          "output_type": "display_data",
          "data": {
            "text/plain": [
              "<IPython.core.display.HTML object>"
            ],
            "text/html": [
              "\n",
              "<style>\n",
              "    /* Turns off some styling */\n",
              "    progress {\n",
              "        /* gets rid of default border in Firefox and Opera. */\n",
              "        border: none;\n",
              "        /* Needs to be in here for Safari polyfill so background images work as expected. */\n",
              "        background-size: auto;\n",
              "    }\n",
              "    .progress-bar-interrupted, .progress-bar-interrupted::-webkit-progress-bar {\n",
              "        background: #F44336;\n",
              "    }\n",
              "</style>\n"
            ]
          },
          "metadata": {}
        },
        {
          "output_type": "display_data",
          "data": {
            "text/plain": [
              "<IPython.core.display.HTML object>"
            ],
            "text/html": [
              ""
            ]
          },
          "metadata": {}
        },
        {
          "output_type": "display_data",
          "data": {
            "text/plain": [
              "<IPython.core.display.HTML object>"
            ],
            "text/html": [
              "\n",
              "<style>\n",
              "    /* Turns off some styling */\n",
              "    progress {\n",
              "        /* gets rid of default border in Firefox and Opera. */\n",
              "        border: none;\n",
              "        /* Needs to be in here for Safari polyfill so background images work as expected. */\n",
              "        background-size: auto;\n",
              "    }\n",
              "    .progress-bar-interrupted, .progress-bar-interrupted::-webkit-progress-bar {\n",
              "        background: #F44336;\n",
              "    }\n",
              "</style>\n"
            ]
          },
          "metadata": {}
        },
        {
          "output_type": "display_data",
          "data": {
            "text/plain": [
              "<IPython.core.display.HTML object>"
            ],
            "text/html": [
              ""
            ]
          },
          "metadata": {}
        },
        {
          "output_type": "display_data",
          "data": {
            "text/plain": [
              "<Figure size 432x288 with 1 Axes>"
            ],
            "image/png": "[encoded data removed]"
          },
          "metadata": {
            "needs_background": "light"
          }
        }
      ]
    },
    {
      "cell_type": "code",
      "source": [
        "interp.plot_top_losses(1, nrows=5)"
      ],
      "metadata": {
        "colab": {
          "base_uri": "https://localhost:8080/",
          "height": 954
        },
        "id": "Cua3EVEcFhCl",
        "outputId": "f0d0785e-75f5-4b95-92f3-07a870c6cb81"
      },
      "execution_count": null,
      "outputs": [
        {
          "output_type": "display_data",
          "data": {
            "text/plain": [
              "<IPython.core.display.HTML object>"
            ],
            "text/html": [
              "\n",
              "<style>\n",
              "    /* Turns off some styling */\n",
              "    progress {\n",
              "        /* gets rid of default border in Firefox and Opera. */\n",
              "        border: none;\n",
              "        /* Needs to be in here for Safari polyfill so background images work as expected. */\n",
              "        background-size: auto;\n",
              "    }\n",
              "    .progress-bar-interrupted, .progress-bar-interrupted::-webkit-progress-bar {\n",
              "        background: #F44336;\n",
              "    }\n",
              "</style>\n"
            ]
          },
          "metadata": {}
        },
        {
          "output_type": "display_data",
          "data": {
            "text/plain": [
              "<IPython.core.display.HTML object>"
            ],
            "text/html": [
              ""
            ]
          },
          "metadata": {}
        },
        {
          "output_type": "display_data",
          "data": {
            "text/plain": [
              "<Figure size 216x1080 with 5 Axes>"
            ],
            "image/png": "[encoded data removed]"
          },
          "metadata": {
            "needs_background": "light"
          }
        }
      ]
    },
    {
      "cell_type": "markdown",
      "source": [
        "# FasitAI: Binary classification"
      ],
      "metadata": {
        "id": "ZednmpndinGZ"
      }
    },
    {
      "cell_type": "code",
      "source": [
        "!mkdir /content/CryData\n",
        "!mkdir /content/CryData/hungray_img\n",
        "!mkdir /content/CryData/not_hungray_img\n",
        "!cp /content/Spectrogram/belly_pain_img/* /content/CryData/not_hungray_img\n",
        "!cp /content/Spectrogram/burping_img/* /content/CryData/not_hungray_img\n",
        "!cp /content/Spectrogram/tired_img/* /content/CryData/not_hungray_img\n",
        "!cp /content/Spectrogram/discomfort_img/* /content/CryData/not_hungray_img\n",
        "!cp /content/Spectrogram/hungry_img/* /content/CryData/hungray_img"
      ],
      "metadata": {
        "id": "eMN2ZCIIkrKa"
      },
      "execution_count": null,
      "outputs": []
    },
    {
      "cell_type": "code",
      "source": [
        "path = Path(\"/content/CryData\")\n",
        "path.ls()\n",
        "folders = [\"hungray_img\", \"not_hungray_img\"]"
      ],
      "metadata": {
        "id": "K5PUVob9mtMb"
      },
      "execution_count": null,
      "outputs": []
    },
    {
      "cell_type": "code",
      "source": [
        "dls = ImageDataLoaders.from_folder(\n",
        "    path, train=\".\", valid_pct=0.2, item_tfms=Resize(224), bs=64, num_workers=0\n",
        ")"
      ],
      "metadata": {
        "id": "2rRHUmjIm5uB"
      },
      "execution_count": null,
      "outputs": []
    },
    {
      "cell_type": "code",
      "source": [
        "dls.show_batch(max_n=10, figsize=(7,6))"
      ],
      "metadata": {
        "colab": {
          "base_uri": "https://localhost:8080/",
          "height": 368
        },
        "id": "slR7irSorDB5",
        "outputId": "37dd04e1-1867-436c-df8c-3d396e0de69f"
      },
      "execution_count": null,
      "outputs": [
        {
          "output_type": "display_data",
          "data": {
            "text/plain": [
              "<Figure size 504x432 with 12 Axes>"
            ],
            "image/png": "[encoded data removed]"
          },
          "metadata": {
            "needs_background": "light"
          }
        }
      ]
    },
    {
      "cell_type": "code",
      "source": [
        "learn2 = cnn_learner(dls, resnet50, metrics=accuracy)"
      ],
      "metadata": {
        "id": "-Iy1F9g2rLKi"
      },
      "execution_count": null,
      "outputs": []
    },
    {
      "cell_type": "code",
      "source": [
        "import time\n",
        "\n",
        "t0 = time.time()\n",
        "learn2.fine_tune(20)\n",
        "t1 = time.time()\n",
        "print(\"time taken to fit the model: {}\".format(t1 - t0))"
      ],
      "metadata": {
        "id": "V-dBWWDCrNHj",
        "colab": {
          "base_uri": "https://localhost:8080/",
          "height": 757
        },
        "outputId": "e5e8461d-cef8-449c-c7c6-0e705236ba16"
      },
      "execution_count": null,
      "outputs": [
        {
          "output_type": "display_data",
          "data": {
            "text/plain": [
              "<IPython.core.display.HTML object>"
            ],
            "text/html": [
              "\n",
              "<style>\n",
              "    /* Turns off some styling */\n",
              "    progress {\n",
              "        /* gets rid of default border in Firefox and Opera. */\n",
              "        border: none;\n",
              "        /* Needs to be in here for Safari polyfill so background images work as expected. */\n",
              "        background-size: auto;\n",
              "    }\n",
              "    .progress-bar-interrupted, .progress-bar-interrupted::-webkit-progress-bar {\n",
              "        background: #F44336;\n",
              "    }\n",
              "</style>\n"
            ]
          },
          "metadata": {}
        },
        {
          "output_type": "display_data",
          "data": {
            "text/plain": [
              "<IPython.core.display.HTML object>"
            ],
            "text/html": [
              "<table border=\"1\" class=\"dataframe\">\n",
              "  <thead>\n",
              "    <tr style=\"text-align: left;\">\n",
              "      <th>epoch</th>\n",
              "      <th>train_loss</th>\n",
              "      <th>valid_loss</th>\n",
              "      <th>accuracy</th>\n",
              "      <th>time</th>\n",
              "    </tr>\n",
              "  </thead>\n",
              "  <tbody>\n",
              "    <tr>\n",
              "      <td>0</td>\n",
              "      <td>1.376001</td>\n",
              "      <td>0.556140</td>\n",
              "      <td>0.813187</td>\n",
              "      <td>00:11</td>\n",
              "    </tr>\n",
              "  </tbody>\n",
              "</table>"
            ]
          },
          "metadata": {}
        },
        {
          "output_type": "display_data",
          "data": {
            "text/plain": [
              "<IPython.core.display.HTML object>"
            ],
            "text/html": [
              "\n",
              "<style>\n",
              "    /* Turns off some styling */\n",
              "    progress {\n",
              "        /* gets rid of default border in Firefox and Opera. */\n",
              "        border: none;\n",
              "        /* Needs to be in here for Safari polyfill so background images work as expected. */\n",
              "        background-size: auto;\n",
              "    }\n",
              "    .progress-bar-interrupted, .progress-bar-interrupted::-webkit-progress-bar {\n",
              "        background: #F44336;\n",
              "    }\n",
              "</style>\n"
            ]
          },
          "metadata": {}
        },
        {
          "output_type": "display_data",
          "data": {
            "text/plain": [
              "<IPython.core.display.HTML object>"
            ],
            "text/html": [
              "<table border=\"1\" class=\"dataframe\">\n",
              "  <thead>\n",
              "    <tr style=\"text-align: left;\">\n",
              "      <th>epoch</th>\n",
              "      <th>train_loss</th>\n",
              "      <th>valid_loss</th>\n",
              "      <th>accuracy</th>\n",
              "      <th>time</th>\n",
              "    </tr>\n",
              "  </thead>\n",
              "  <tbody>\n",
              "    <tr>\n",
              "      <td>0</td>\n",
              "      <td>1.044120</td>\n",
              "      <td>0.918371</td>\n",
              "      <td>0.395604</td>\n",
              "      <td>00:13</td>\n",
              "    </tr>\n",
              "    <tr>\n",
              "      <td>1</td>\n",
              "      <td>0.959045</td>\n",
              "      <td>1.322850</td>\n",
              "      <td>0.263736</td>\n",
              "      <td>00:14</td>\n",
              "    </tr>\n",
              "    <tr>\n",
              "      <td>2</td>\n",
              "      <td>0.849542</td>\n",
              "      <td>1.463025</td>\n",
              "      <td>0.307692</td>\n",
              "      <td>00:13</td>\n",
              "    </tr>\n",
              "    <tr>\n",
              "      <td>3</td>\n",
              "      <td>0.774169</td>\n",
              "      <td>1.190161</td>\n",
              "      <td>0.483516</td>\n",
              "      <td>00:13</td>\n",
              "    </tr>\n",
              "    <tr>\n",
              "      <td>4</td>\n",
              "      <td>0.708007</td>\n",
              "      <td>1.815308</td>\n",
              "      <td>0.384615</td>\n",
              "      <td>00:13</td>\n",
              "    </tr>\n",
              "    <tr>\n",
              "      <td>5</td>\n",
              "      <td>0.661052</td>\n",
              "      <td>2.122127</td>\n",
              "      <td>0.450549</td>\n",
              "      <td>00:13</td>\n",
              "    </tr>\n",
              "    <tr>\n",
              "      <td>6</td>\n",
              "      <td>0.618278</td>\n",
              "      <td>1.374297</td>\n",
              "      <td>0.560440</td>\n",
              "      <td>00:13</td>\n",
              "    </tr>\n",
              "    <tr>\n",
              "      <td>7</td>\n",
              "      <td>0.569045</td>\n",
              "      <td>1.358851</td>\n",
              "      <td>0.604396</td>\n",
              "      <td>00:13</td>\n",
              "    </tr>\n",
              "    <tr>\n",
              "      <td>8</td>\n",
              "      <td>0.510287</td>\n",
              "      <td>2.523032</td>\n",
              "      <td>0.560440</td>\n",
              "      <td>00:13</td>\n",
              "    </tr>\n",
              "    <tr>\n",
              "      <td>9</td>\n",
              "      <td>0.467162</td>\n",
              "      <td>2.181921</td>\n",
              "      <td>0.439560</td>\n",
              "      <td>00:13</td>\n",
              "    </tr>\n",
              "    <tr>\n",
              "      <td>10</td>\n",
              "      <td>0.413628</td>\n",
              "      <td>1.802599</td>\n",
              "      <td>0.527473</td>\n",
              "      <td>00:13</td>\n",
              "    </tr>\n",
              "    <tr>\n",
              "      <td>11</td>\n",
              "      <td>0.375682</td>\n",
              "      <td>1.843623</td>\n",
              "      <td>0.571429</td>\n",
              "      <td>00:13</td>\n",
              "    </tr>\n",
              "    <tr>\n",
              "      <td>12</td>\n",
              "      <td>0.336408</td>\n",
              "      <td>1.514258</td>\n",
              "      <td>0.692308</td>\n",
              "      <td>00:13</td>\n",
              "    </tr>\n",
              "    <tr>\n",
              "      <td>13</td>\n",
              "      <td>0.299688</td>\n",
              "      <td>1.478401</td>\n",
              "      <td>0.703297</td>\n",
              "      <td>00:13</td>\n",
              "    </tr>\n",
              "    <tr>\n",
              "      <td>14</td>\n",
              "      <td>0.264897</td>\n",
              "      <td>1.432006</td>\n",
              "      <td>0.725275</td>\n",
              "      <td>00:13</td>\n",
              "    </tr>\n",
              "    <tr>\n",
              "      <td>15</td>\n",
              "      <td>0.238509</td>\n",
              "      <td>1.294355</td>\n",
              "      <td>0.769231</td>\n",
              "      <td>00:13</td>\n",
              "    </tr>\n",
              "    <tr>\n",
              "      <td>16</td>\n",
              "      <td>0.213788</td>\n",
              "      <td>1.231802</td>\n",
              "      <td>0.780220</td>\n",
              "      <td>00:13</td>\n",
              "    </tr>\n",
              "    <tr>\n",
              "      <td>17</td>\n",
              "      <td>0.192477</td>\n",
              "      <td>1.215184</td>\n",
              "      <td>0.780220</td>\n",
              "      <td>00:13</td>\n",
              "    </tr>\n",
              "    <tr>\n",
              "      <td>18</td>\n",
              "      <td>0.172394</td>\n",
              "      <td>1.205248</td>\n",
              "      <td>0.780220</td>\n",
              "      <td>00:13</td>\n",
              "    </tr>\n",
              "    <tr>\n",
              "      <td>19</td>\n",
              "      <td>0.156590</td>\n",
              "      <td>1.196781</td>\n",
              "      <td>0.791209</td>\n",
              "      <td>00:13</td>\n",
              "    </tr>\n",
              "  </tbody>\n",
              "</table>"
            ]
          },
          "metadata": {}
        },
        {
          "output_type": "stream",
          "name": "stdout",
          "text": [
            "time taken to fit the model: 287.25684452056885\n"
          ]
        }
      ]
    },
    {
      "cell_type": "code",
      "source": [
        "# save the model\n",
        "learn.save('/content/model')"
      ],
      "metadata": {
        "colab": {
          "base_uri": "https://localhost:8080/"
        },
        "id": "ISP0_gNrTQ_g",
        "outputId": "c207cf3f-136b-48e4-a13b-4147e142b242"
      },
      "execution_count": null,
      "outputs": [
        {
          "output_type": "execute_result",
          "data": {
            "text/plain": [
              "Path('/content/model.pth')"
            ]
          },
          "metadata": {},
          "execution_count": 152
        }
      ]
    },
    {
      "cell_type": "code",
      "source": [
        "# load the model\n",
        "learn.load('/content/model')"
      ],
      "metadata": {
        "colab": {
          "base_uri": "https://localhost:8080/"
        },
        "id": "DSCndZdcT6eT",
        "outputId": "1f0eb90d-b6fb-437c-fc43-3abb4c0096c1"
      },
      "execution_count": null,
      "outputs": [
        {
          "output_type": "execute_result",
          "data": {
            "text/plain": [
              "<fastai.learner.Learner at 0x7fd32e7fd690>"
            ]
          },
          "metadata": {},
          "execution_count": 153
        }
      ]
    },
    {
      "cell_type": "code",
      "source": [
        "learn.unfreeze()\n",
        "learn.fit_one_cycle(1)"
      ],
      "metadata": {
        "colab": {
          "base_uri": "https://localhost:8080/",
          "height": 81
        },
        "id": "qJEI3pB3UsiN",
        "outputId": "2d09a3d5-bb8e-4a6b-b26a-b1315d2d0597"
      },
      "execution_count": null,
      "outputs": [
        {
          "output_type": "display_data",
          "data": {
            "text/plain": [
              "<IPython.core.display.HTML object>"
            ],
            "text/html": [
              "\n",
              "<style>\n",
              "    /* Turns off some styling */\n",
              "    progress {\n",
              "        /* gets rid of default border in Firefox and Opera. */\n",
              "        border: none;\n",
              "        /* Needs to be in here for Safari polyfill so background images work as expected. */\n",
              "        background-size: auto;\n",
              "    }\n",
              "    .progress-bar-interrupted, .progress-bar-interrupted::-webkit-progress-bar {\n",
              "        background: #F44336;\n",
              "    }\n",
              "</style>\n"
            ]
          },
          "metadata": {}
        },
        {
          "output_type": "display_data",
          "data": {
            "text/plain": [
              "<IPython.core.display.HTML object>"
            ],
            "text/html": [
              "<table border=\"1\" class=\"dataframe\">\n",
              "  <thead>\n",
              "    <tr style=\"text-align: left;\">\n",
              "      <th>epoch</th>\n",
              "      <th>train_loss</th>\n",
              "      <th>valid_loss</th>\n",
              "      <th>accuracy</th>\n",
              "      <th>time</th>\n",
              "    </tr>\n",
              "  </thead>\n",
              "  <tbody>\n",
              "    <tr>\n",
              "      <td>0</td>\n",
              "      <td>0.961008</td>\n",
              "      <td>4.858002</td>\n",
              "      <td>0.824176</td>\n",
              "      <td>00:07</td>\n",
              "    </tr>\n",
              "  </tbody>\n",
              "</table>"
            ]
          },
          "metadata": {}
        }
      ]
    },
    {
      "cell_type": "code",
      "source": [
        "learn.lr_find()"
      ],
      "metadata": {
        "colab": {
          "base_uri": "https://localhost:8080/",
          "height": 301
        },
        "id": "LXzGLfQwVImX",
        "outputId": "0d1ffc07-cbb6-4fb3-ada9-d26f9ae9aa5e"
      },
      "execution_count": null,
      "outputs": [
        {
          "output_type": "display_data",
          "data": {
            "text/plain": [
              "<IPython.core.display.HTML object>"
            ],
            "text/html": [
              "\n",
              "<style>\n",
              "    /* Turns off some styling */\n",
              "    progress {\n",
              "        /* gets rid of default border in Firefox and Opera. */\n",
              "        border: none;\n",
              "        /* Needs to be in here for Safari polyfill so background images work as expected. */\n",
              "        background-size: auto;\n",
              "    }\n",
              "    .progress-bar-interrupted, .progress-bar-interrupted::-webkit-progress-bar {\n",
              "        background: #F44336;\n",
              "    }\n",
              "</style>\n"
            ]
          },
          "metadata": {}
        },
        {
          "output_type": "display_data",
          "data": {
            "text/plain": [
              "<IPython.core.display.HTML object>"
            ],
            "text/html": [
              ""
            ]
          },
          "metadata": {}
        },
        {
          "output_type": "execute_result",
          "data": {
            "text/plain": [
              "SuggestedLRs(valley=0.010964781977236271)"
            ]
          },
          "metadata": {},
          "execution_count": 158
        },
        {
          "output_type": "display_data",
          "data": {
            "text/plain": [
              "<Figure size 432x288 with 1 Axes>"
            ],
            "image/png": "[encoded data removed]"
          },
          "metadata": {
            "needs_background": "light"
          }
        }
      ]
    },
    {
      "cell_type": "code",
      "source": [
        "learn.unfreeze()\n",
        "learn.load(\"/content/model\")"
      ],
      "metadata": {
        "colab": {
          "base_uri": "https://localhost:8080/"
        },
        "id": "hiGqcVVGVwdi",
        "outputId": "e84b805d-6d9a-402c-842d-741569ddd746"
      },
      "execution_count": null,
      "outputs": [
        {
          "output_type": "execute_result",
          "data": {
            "text/plain": [
              "<fastai.learner.Learner at 0x7fd32e7fd690>"
            ]
          },
          "metadata": {},
          "execution_count": 161
        }
      ]
    },
    {
      "cell_type": "code",
      "source": [
        "learn.fit_one_cycle(10, 10e-2)"
      ],
      "metadata": {
        "colab": {
          "base_uri": "https://localhost:8080/",
          "height": 363
        },
        "id": "YvryHNY8Vuul",
        "outputId": "fb052242-7984-4662-fcbe-e061e89145bc"
      },
      "execution_count": null,
      "outputs": [
        {
          "output_type": "display_data",
          "data": {
            "text/plain": [
              "<IPython.core.display.HTML object>"
            ],
            "text/html": [
              "\n",
              "<style>\n",
              "    /* Turns off some styling */\n",
              "    progress {\n",
              "        /* gets rid of default border in Firefox and Opera. */\n",
              "        border: none;\n",
              "        /* Needs to be in here for Safari polyfill so background images work as expected. */\n",
              "        background-size: auto;\n",
              "    }\n",
              "    .progress-bar-interrupted, .progress-bar-interrupted::-webkit-progress-bar {\n",
              "        background: #F44336;\n",
              "    }\n",
              "</style>\n"
            ]
          },
          "metadata": {}
        },
        {
          "output_type": "display_data",
          "data": {
            "text/plain": [
              "<IPython.core.display.HTML object>"
            ],
            "text/html": [
              "<table border=\"1\" class=\"dataframe\">\n",
              "  <thead>\n",
              "    <tr style=\"text-align: left;\">\n",
              "      <th>epoch</th>\n",
              "      <th>train_loss</th>\n",
              "      <th>valid_loss</th>\n",
              "      <th>accuracy</th>\n",
              "      <th>time</th>\n",
              "    </tr>\n",
              "  </thead>\n",
              "  <tbody>\n",
              "    <tr>\n",
              "      <td>0</td>\n",
              "      <td>2.463444</td>\n",
              "      <td>264813.500000</td>\n",
              "      <td>0.824176</td>\n",
              "      <td>00:06</td>\n",
              "    </tr>\n",
              "    <tr>\n",
              "      <td>1</td>\n",
              "      <td>2.100056</td>\n",
              "      <td>1363969.625000</td>\n",
              "      <td>0.824176</td>\n",
              "      <td>00:06</td>\n",
              "    </tr>\n",
              "    <tr>\n",
              "      <td>2</td>\n",
              "      <td>1.916312</td>\n",
              "      <td>143944.406250</td>\n",
              "      <td>0.824176</td>\n",
              "      <td>00:06</td>\n",
              "    </tr>\n",
              "    <tr>\n",
              "      <td>3</td>\n",
              "      <td>1.913904</td>\n",
              "      <td>5146.246582</td>\n",
              "      <td>0.824176</td>\n",
              "      <td>00:06</td>\n",
              "    </tr>\n",
              "    <tr>\n",
              "      <td>4</td>\n",
              "      <td>1.697283</td>\n",
              "      <td>1421.013062</td>\n",
              "      <td>0.824176</td>\n",
              "      <td>00:06</td>\n",
              "    </tr>\n",
              "    <tr>\n",
              "      <td>5</td>\n",
              "      <td>1.565532</td>\n",
              "      <td>101.140015</td>\n",
              "      <td>0.406593</td>\n",
              "      <td>00:06</td>\n",
              "    </tr>\n",
              "    <tr>\n",
              "      <td>6</td>\n",
              "      <td>1.457475</td>\n",
              "      <td>34.439838</td>\n",
              "      <td>0.362637</td>\n",
              "      <td>00:06</td>\n",
              "    </tr>\n",
              "    <tr>\n",
              "      <td>7</td>\n",
              "      <td>1.357030</td>\n",
              "      <td>9.988472</td>\n",
              "      <td>0.824176</td>\n",
              "      <td>00:06</td>\n",
              "    </tr>\n",
              "    <tr>\n",
              "      <td>8</td>\n",
              "      <td>1.268803</td>\n",
              "      <td>3.776850</td>\n",
              "      <td>0.824176</td>\n",
              "      <td>00:06</td>\n",
              "    </tr>\n",
              "    <tr>\n",
              "      <td>9</td>\n",
              "      <td>1.215608</td>\n",
              "      <td>2.276840</td>\n",
              "      <td>0.824176</td>\n",
              "      <td>00:06</td>\n",
              "    </tr>\n",
              "  </tbody>\n",
              "</table>"
            ]
          },
          "metadata": {}
        }
      ]
    },
    {
      "cell_type": "code",
      "source": [
        "learn.save(\"/content/model_final\")"
      ],
      "metadata": {
        "colab": {
          "base_uri": "https://localhost:8080/"
        },
        "id": "6VlVZmFHWRMa",
        "outputId": "c7fd4155-6ff7-4cb8-b653-3e891d53fe38"
      },
      "execution_count": null,
      "outputs": [
        {
          "output_type": "execute_result",
          "data": {
            "text/plain": [
              "Path('/content/model_final.pth')"
            ]
          },
          "metadata": {},
          "execution_count": 164
        }
      ]
    },
    {
      "cell_type": "markdown",
      "source": [
        "Keras Experiment (binary classification)\n",
        "----------------"
      ],
      "metadata": {
        "id": "JeYNvq7AlIX1"
      }
    },
    {
      "cell_type": "code",
      "source": [
        "import tensorflow as tf\n",
        "from tensorflow import keras\n",
        "from keras.callbacks import EarlyStopping\n",
        "from keras import layers\n",
        "\n",
        "print(tf.__version__)\n",
        "print(keras.__version__)"
      ],
      "metadata": {
        "colab": {
          "base_uri": "https://localhost:8080/"
        },
        "id": "5idA4BYllLOh",
        "outputId": "4b41e525-e5f7-4a1b-81a0-86a3ec9de5f3"
      },
      "execution_count": null,
      "outputs": [
        {
          "output_type": "stream",
          "name": "stdout",
          "text": [
            "2.8.0\n",
            "2.8.0\n"
          ]
        }
      ]
    },
    {
      "cell_type": "code",
      "source": [
        "path.ls()\n",
        "folders = [\"hungray_img\", \"not_hungray_img\"]"
      ],
      "metadata": {
        "id": "ulKrZuwGJctl"
      },
      "execution_count": null,
      "outputs": []
    },
    {
      "cell_type": "code",
      "source": [
        "train_ds = tf.keras.preprocessing.image_dataset_from_directory(\n",
        "    path,\n",
        "    validation_split=0.2,\n",
        "    subset=\"training\",\n",
        "    seed=123,\n",
        "    image_size=(224, 224),\n",
        "    batch_size=64,\n",
        ")"
      ],
      "metadata": {
        "colab": {
          "base_uri": "https://localhost:8080/"
        },
        "id": "_P4ogAZ_Jgch",
        "outputId": "1f96b76c-1ffd-4ec2-91e2-f2fc04d2023d"
      },
      "execution_count": null,
      "outputs": [
        {
          "output_type": "stream",
          "name": "stdout",
          "text": [
            "Found 457 files belonging to 2 classes.\n",
            "Using 366 files for training.\n"
          ]
        }
      ]
    },
    {
      "cell_type": "code",
      "source": [
        "val_ds = tf.keras.preprocessing.image_dataset_from_directory(\n",
        "    path,\n",
        "    validation_split=0.2,\n",
        "    subset=\"validation\",\n",
        "    seed=123,\n",
        "    image_size=(224, 224),\n",
        "    batch_size=64,\n",
        ")"
      ],
      "metadata": {
        "colab": {
          "base_uri": "https://localhost:8080/"
        },
        "id": "OsE9KiDoJibe",
        "outputId": "381ff858-6a3b-4350-f5a0-9689bbe49ed3"
      },
      "execution_count": null,
      "outputs": [
        {
          "output_type": "stream",
          "name": "stdout",
          "text": [
            "Found 457 files belonging to 2 classes.\n",
            "Using 91 files for validation.\n"
          ]
        }
      ]
    },
    {
      "cell_type": "code",
      "source": [
        "model = keras.Sequential(\n",
        "    [\n",
        "        layers.experimental.preprocessing.Rescaling(1.0 / 255),\n",
        "        layers.Conv2D(16, 3, padding=\"same\", activation=\"relu\"),\n",
        "        layers.MaxPooling2D(),\n",
        "        layers.Conv2D(32, 3, padding=\"same\", activation=\"relu\"),\n",
        "        layers.MaxPooling2D(),\n",
        "        layers.Conv2D(64, 3, padding=\"same\", activation=\"relu\"),\n",
        "        layers.MaxPooling2D(),\n",
        "        layers.Dropout(0.2),\n",
        "        layers.Flatten(),\n",
        "        layers.Dense(128, activation=\"relu\"),\n",
        "        layers.Dense(1),\n",
        "    ]\n",
        ")"
      ],
      "metadata": {
        "id": "SS0UIVdxJkRp"
      },
      "execution_count": null,
      "outputs": []
    },
    {
      "cell_type": "code",
      "source": [
        "model.compile(\n",
        "    optimizer=\"adam\",\n",
        "    loss=tf.keras.losses.BinaryCrossentropy(from_logits=True),\n",
        "    metrics=[\"accuracy\"],\n",
        ")\n",
        "\n",
        "early_stopping = EarlyStopping(monitor=\"val_loss\", patience=10)\n",
        "\n",
        "model.fit(train_ds, validation_data=val_ds, epochs=10, callbacks=[early_stopping])"
      ],
      "metadata": {
        "colab": {
          "base_uri": "https://localhost:8080/"
        },
        "id": "T5kEshhiKM7Z",
        "outputId": "7d8a75e0-779f-41de-b84f-0520ac5520bb"
      },
      "execution_count": null,
      "outputs": [
        {
          "output_type": "stream",
          "name": "stdout",
          "text": [
            "Epoch 1/10\n",
            "6/6 [==============================] - 3s 232ms/step - loss: 0.4121 - accuracy: 0.8361 - val_loss: 0.4320 - val_accuracy: 0.8352\n",
            "Epoch 2/10\n",
            "6/6 [==============================] - 2s 207ms/step - loss: 0.3888 - accuracy: 0.8361 - val_loss: 0.4364 - val_accuracy: 0.8352\n",
            "Epoch 3/10\n",
            "6/6 [==============================] - 2s 181ms/step - loss: 0.3881 - accuracy: 0.8361 - val_loss: 0.4387 - val_accuracy: 0.8352\n",
            "Epoch 4/10\n",
            "6/6 [==============================] - 2s 185ms/step - loss: 0.3912 - accuracy: 0.8361 - val_loss: 0.4429 - val_accuracy: 0.8352\n",
            "Epoch 5/10\n",
            "6/6 [==============================] - 2s 183ms/step - loss: 0.4031 - accuracy: 0.8361 - val_loss: 0.4591 - val_accuracy: 0.8352\n",
            "Epoch 6/10\n",
            "6/6 [==============================] - 2s 183ms/step - loss: 0.3927 - accuracy: 0.8361 - val_loss: 0.4364 - val_accuracy: 0.8352\n",
            "Epoch 7/10\n",
            "6/6 [==============================] - 2s 185ms/step - loss: 0.3840 - accuracy: 0.8361 - val_loss: 0.4465 - val_accuracy: 0.8352\n",
            "Epoch 8/10\n",
            "6/6 [==============================] - 2s 181ms/step - loss: 0.3973 - accuracy: 0.8361 - val_loss: 0.4496 - val_accuracy: 0.8352\n",
            "Epoch 9/10\n",
            "6/6 [==============================] - 2s 185ms/step - loss: 0.3787 - accuracy: 0.8361 - val_loss: 0.4564 - val_accuracy: 0.8352\n",
            "Epoch 10/10\n",
            "6/6 [==============================] - 2s 182ms/step - loss: 0.3739 - accuracy: 0.8388 - val_loss: 0.4568 - val_accuracy: 0.8352\n"
          ]
        },
        {
          "output_type": "execute_result",
          "data": {
            "text/plain": [
              "<keras.callbacks.History at 0x7fd32b0180d0>"
            ]
          },
          "metadata": {},
          "execution_count": 178
        }
      ]
    },
    {
      "cell_type": "code",
      "source": [
        "# Visualize the loss function\n",
        "plt.figure(figsize=(7, 7))\n",
        "plt.plot(model.history.history[\"loss\"])\n",
        "plt.plot(model.history.history[\"val_loss\"])\n",
        "plt.title(\"Model loss\")\n",
        "plt.ylabel(\"Loss\")\n",
        "plt.xlabel(\"Epoch\")\n",
        "plt.legend([\"Train\", \"Val\"], loc=\"upper right\")\n",
        "plt.show()"
      ],
      "metadata": {
        "colab": {
          "base_uri": "https://localhost:8080/",
          "height": 464
        },
        "id": "xQp_St1jTeMZ",
        "outputId": "c1fce422-5b49-4227-ef27-e43ed7e2c2c0"
      },
      "execution_count": null,
      "outputs": [
        {
          "output_type": "display_data",
          "data": {
            "text/plain": [
              "<Figure size 504x504 with 1 Axes>"
            ],
            "image/png": "[encoded data removed]"
          },
          "metadata": {}
        }
      ]
    },
    {
      "cell_type": "code",
      "source": [
        "# Save the model\n",
        "model.save('model.h5')"
      ],
      "metadata": {
        "id": "whRjx8U-a6Ly"
      },
      "execution_count": null,
      "outputs": []
    }
  ]
}